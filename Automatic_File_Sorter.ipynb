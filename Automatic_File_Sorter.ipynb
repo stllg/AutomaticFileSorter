{
 "cells": [
  {
   "cell_type": "code",
   "execution_count": 82,
   "id": "46c9bb54-9296-4605-be76-9f65b2ea0d99",
   "metadata": {
    "tags": []
   },
   "outputs": [],
   "source": [
    "#aujtomatic file sorter in file explorer\n",
    "import os, shutil\n",
    "path = r\"./Files_to_sort/\"\n"
   ]
  },
  {
   "cell_type": "code",
   "execution_count": 83,
   "id": "45c5df36-445c-4469-8654-ca26c3b738c3",
   "metadata": {
    "tags": []
   },
   "outputs": [],
   "source": [
    "file_name = os.listdir(path)\n"
   ]
  },
  {
   "cell_type": "code",
   "execution_count": 84,
   "id": "a04c4926-6521-4c0a-9fc0-df8894a2e52a",
   "metadata": {
    "tags": []
   },
   "outputs": [],
   "source": [
    "folder_names = ['csv_files', 'excel_files','text_files', 'images']\n",
    "extensions = ['.csv','xlsx', 'txt', 'jpeg']\n",
    "for fold in folder_names:\n",
    "    if not os.path.exists(path + fold):\n",
    "        os.mkdir(path + fold)\n",
    "       "
   ]
  },
  {
   "cell_type": "code",
   "execution_count": 85,
   "id": "cea94b37-27f8-4738-ac50-4f2047d0d6db",
   "metadata": {
    "tags": []
   },
   "outputs": [],
   "source": [
    "for file in file_name:\n",
    "    if ('.csv' in file) and not (os.path.exists(path + 'csv_files/'+ file)):\n",
    "        shutil.move(path + file, path + 'csv_files/' + file)\n",
    "    \n",
    "    elif ('.xlsx') in file and not (os.path.exists(path+'excel_files/'+ file)):\n",
    "        shutil.move(path + file, path + 'excel_files/' + file)\n",
    "    \n",
    "    elif ('.txt' in file) and not (os.path.exists(path + 'text_files/' + file)):\n",
    "        shutil.move(path + file, path +'text_files/'+ file)\n",
    "    \n",
    "    elif (('.jpeg' or '.png') in file) and not (os.path.exists(path +'images/'+file)):\n",
    "        shutil.move(path + file, path + 'images/'+ file)\n",
    "\n",
    "\n",
    "        "
   ]
  },
  {
   "cell_type": "code",
   "execution_count": null,
   "id": "5625d23c-69d6-49e9-980a-a1242d1913b4",
   "metadata": {},
   "outputs": [],
   "source": []
  },
  {
   "cell_type": "code",
   "execution_count": null,
   "id": "de47ad02-612d-449a-bb7e-52cc3826cf51",
   "metadata": {},
   "outputs": [],
   "source": []
  }
 ],
 "metadata": {
  "kernelspec": {
   "display_name": "Python 3 (ipykernel)",
   "language": "python",
   "name": "python3"
  },
  "language_info": {
   "codemirror_mode": {
    "name": "ipython",
    "version": 3
   },
   "file_extension": ".py",
   "mimetype": "text/x-python",
   "name": "python",
   "nbconvert_exporter": "python",
   "pygments_lexer": "ipython3",
   "version": "3.11.5"
  }
 },
 "nbformat": 4,
 "nbformat_minor": 5
}
